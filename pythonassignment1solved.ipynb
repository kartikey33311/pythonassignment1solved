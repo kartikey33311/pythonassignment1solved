{
  "nbformat": 4,
  "nbformat_minor": 0,
  "metadata": {
    "colab": {
      "provenance": [],
      "authorship_tag": "ABX9TyNQqvEEptsWwnX3CdPrYT/i",
      "include_colab_link": true
    },
    "kernelspec": {
      "name": "python3",
      "display_name": "Python 3"
    },
    "language_info": {
      "name": "python"
    }
  },
  "cells": [
    {
      "cell_type": "markdown",
      "metadata": {
        "id": "view-in-github",
        "colab_type": "text"
      },
      "source": [
        "<a href=\"https://colab.research.google.com/github/kartikey33311/pythonassignment1solved/blob/main/pythonassignment1solved.ipynb\" target=\"_parent\"><img src=\"https://colab.research.google.com/assets/colab-badge.svg\" alt=\"Open In Colab\"/></a>"
      ]
    },
    {
      "cell_type": "code",
      "execution_count": null,
      "metadata": {
        "id": "kdgB8HfmbUrK"
      },
      "outputs": [],
      "source": [
        "#Mini Project-01: Python Assignment"
      ]
    },
    {
      "cell_type": "code",
      "source": [
        "#Q1\n",
        "#1\n",
        "L = [11,12,13,14]\n",
        "print (\"Original List: \", L)\n",
        "L.append(50)\n",
        "L.append(60)\n",
        "print (\"modified list: \", L)"
      ],
      "metadata": {
        "colab": {
          "base_uri": "https://localhost:8080/"
        },
        "id": "-bIyMuCzbnkT",
        "outputId": "37bcc84b-558d-415d-938a-76e1afbe650c"
      },
      "execution_count": 1,
      "outputs": [
        {
          "output_type": "stream",
          "name": "stdout",
          "text": [
            "Original List:  [11, 12, 13, 14]\n",
            "modified list:  [11, 12, 13, 14, 50, 60]\n"
          ]
        }
      ]
    },
    {
      "cell_type": "code",
      "source": [
        "#2\n",
        "L = [11,12,13,14]\n",
        "print (\"Original List: \", L)\n",
        "del L[3]\n",
        "del L[2]\n",
        "print (\"modified list: \"), L\n",
        "\n"
      ],
      "metadata": {
        "colab": {
          "base_uri": "https://localhost:8080/"
        },
        "id": "7LJtTY-Gcli3",
        "outputId": "4181fca8-659b-4cfc-aa67-da6a860fefdf"
      },
      "execution_count": 5,
      "outputs": [
        {
          "output_type": "stream",
          "name": "stdout",
          "text": [
            "Original List:  [11, 12, 13, 14]\n",
            "modified list: \n"
          ]
        },
        {
          "output_type": "execute_result",
          "data": {
            "text/plain": [
              "(None, [11, 12])"
            ]
          },
          "metadata": {},
          "execution_count": 5
        }
      ]
    },
    {
      "cell_type": "code",
      "source": [
        "#3\n",
        "L = [11,12,13,14]\n",
        "print (\"Original List: \", L)\n",
        "L.sort()\n",
        "print (\"modified list: \", L)"
      ],
      "metadata": {
        "colab": {
          "base_uri": "https://localhost:8080/"
        },
        "id": "yWNAClczeKcS",
        "outputId": "b93152a8-09e8-4707-d79f-4e73972e1b50"
      },
      "execution_count": 6,
      "outputs": [
        {
          "output_type": "stream",
          "name": "stdout",
          "text": [
            "Original List:  [11, 12, 13, 14]\n",
            "modified list:  [11, 12, 13, 14]\n"
          ]
        }
      ]
    },
    {
      "cell_type": "code",
      "source": [
        "#4\n",
        "L = [11,12,13,14]\n",
        "print (\"Original List: \", L)\n",
        "L.sort(reverse = True)\n",
        "print (\"modified list: \", L)"
      ],
      "metadata": {
        "colab": {
          "base_uri": "https://localhost:8080/"
        },
        "id": "dWEz5yeMe-2K",
        "outputId": "481240ba-fb52-459f-a44e-85001ae11d6a"
      },
      "execution_count": 8,
      "outputs": [
        {
          "output_type": "stream",
          "name": "stdout",
          "text": [
            "Original List:  [11, 12, 13, 14]\n",
            "modified list:  [14, 13, 12, 11]\n"
          ]
        }
      ]
    },
    {
      "cell_type": "code",
      "source": [
        "#5\n",
        "L = [11,12,13,14]\n",
        "print (\"Original List: \", L)\n",
        "print(\"present at:\", 13 in L)"
      ],
      "metadata": {
        "colab": {
          "base_uri": "https://localhost:8080/"
        },
        "id": "hIVH1zzIfGd0",
        "outputId": "46ab6a82-ce6d-4ba7-e4f4-30c79f22a480"
      },
      "execution_count": 9,
      "outputs": [
        {
          "output_type": "stream",
          "name": "stdout",
          "text": [
            "Original List:  [11, 12, 13, 14]\n",
            "present at: True\n"
          ]
        }
      ]
    },
    {
      "cell_type": "code",
      "source": [
        "#6\n",
        "L = [11,12,13,14]\n",
        "print (\"Original List: \", L)\n",
        "print(\"lenght:\", len(L))"
      ],
      "metadata": {
        "colab": {
          "base_uri": "https://localhost:8080/"
        },
        "id": "aPI_R2yCfZDL",
        "outputId": "42d61006-bdd3-482d-f807-d8190cc4914d"
      },
      "execution_count": 10,
      "outputs": [
        {
          "output_type": "stream",
          "name": "stdout",
          "text": [
            "Original List:  [11, 12, 13, 14]\n",
            "lenght: 4\n"
          ]
        }
      ]
    },
    {
      "cell_type": "code",
      "source": [
        "#7\n",
        "L = [11,12,13,14]\n",
        "print (\"Original List: \", L)\n",
        "print(\"sum :\", sum(L))"
      ],
      "metadata": {
        "colab": {
          "base_uri": "https://localhost:8080/"
        },
        "id": "9hzTgXsGfhkP",
        "outputId": "5f78cc55-cf6d-4821-fd0b-0d6778d64e87"
      },
      "execution_count": 11,
      "outputs": [
        {
          "output_type": "stream",
          "name": "stdout",
          "text": [
            "Original List:  [11, 12, 13, 14]\n",
            "sum : 50\n"
          ]
        }
      ]
    },
    {
      "cell_type": "code",
      "source": [
        "#8\n",
        "L = [11,12,13,14]\n",
        "print (\"Original List: \", L)\n",
        "for i in range(len(L)):\n",
        "    if(L[i]%2 != 0):\n",
        "        print(L[i])"
      ],
      "metadata": {
        "colab": {
          "base_uri": "https://localhost:8080/"
        },
        "id": "gGeN9NZXftXD",
        "outputId": "876778d5-471d-4757-c667-9f421fa15d78"
      },
      "execution_count": 15,
      "outputs": [
        {
          "output_type": "stream",
          "name": "stdout",
          "text": [
            "Original List:  [11, 12, 13, 14]\n",
            "11\n",
            "13\n"
          ]
        }
      ]
    },
    {
      "cell_type": "code",
      "source": [
        "#9\n",
        "L = [11,12,13,14]\n",
        "print (\"Original List: \", L)\n",
        "for i in range(len(L)):\n",
        "    if(L[i]%2 == 0):\n",
        "        print(L[i])"
      ],
      "metadata": {
        "colab": {
          "base_uri": "https://localhost:8080/"
        },
        "id": "ey6WSNYpgaip",
        "outputId": "f77b3ccc-e36b-4172-d31c-0f079c82c40d"
      },
      "execution_count": 16,
      "outputs": [
        {
          "output_type": "stream",
          "name": "stdout",
          "text": [
            "Original List:  [11, 12, 13, 14]\n",
            "12\n",
            "14\n"
          ]
        }
      ]
    },
    {
      "cell_type": "code",
      "source": [
        "#10\n",
        "L = [11,12,13,14]\n",
        "print (\"Original list -> \",L)\n",
        "\n",
        "def is_prime(n):\n",
        "    if n <= 1:\n",
        "        return False\n",
        "    for i in range(2, int(n**0.5) + 1):\n",
        "        if n % i == 0:\n",
        "            return False\n",
        "    return True\n",
        "\n",
        "prime_numbers = [x for x in L if is_prime(x)]\n",
        "print(\"Prime numbers in L -> \", prime_numbers)\n",
        "\n",
        "prime_sum = sum(prime_numbers)\n",
        "print(\"Sum of prime numbers -> \", prime_sum)\n"
      ],
      "metadata": {
        "colab": {
          "base_uri": "https://localhost:8080/"
        },
        "id": "cbW-LoXxgfh5",
        "outputId": "a6618d4a-4494-427b-d46a-f98d1d1c5b59"
      },
      "execution_count": 17,
      "outputs": [
        {
          "output_type": "stream",
          "name": "stdout",
          "text": [
            "Original list ->  [11, 12, 13, 14]\n",
            "Prime numbers in L ->  [11, 13]\n",
            "Sum of prime numbers ->  24\n"
          ]
        }
      ]
    },
    {
      "cell_type": "code",
      "source": [
        "#11\n",
        "L = [11,12,13,14]\n",
        "print (\"Original list -> \",L)\n",
        "L.clear()\n",
        "print (\"List after clearing -> \",L)"
      ],
      "metadata": {
        "colab": {
          "base_uri": "https://localhost:8080/"
        },
        "id": "aJWf2GdPhTA2",
        "outputId": "b6364b11-103c-4e58-950b-8185311d5403"
      },
      "execution_count": 18,
      "outputs": [
        {
          "output_type": "stream",
          "name": "stdout",
          "text": [
            "Original list ->  [11, 12, 13, 14]\n",
            "List after clearing ->  []\n"
          ]
        }
      ]
    },
    {
      "cell_type": "code",
      "source": [
        "#12\n",
        "L = [11,12,13,14]\n",
        "print (\"Original list -> \",L)\n",
        "del L\n",
        "print (\"List after deleting -> \",L) #will give an error"
      ],
      "metadata": {
        "colab": {
          "base_uri": "https://localhost:8080/",
          "height": 193
        },
        "id": "wo9vuYTshU6f",
        "outputId": "1667244f-2401-496d-ba50-c5678b970476"
      },
      "execution_count": 19,
      "outputs": [
        {
          "output_type": "stream",
          "name": "stdout",
          "text": [
            "Original list ->  [11, 12, 13, 14]\n"
          ]
        },
        {
          "output_type": "error",
          "ename": "NameError",
          "evalue": "name 'L' is not defined",
          "traceback": [
            "\u001b[0;31m---------------------------------------------------------------------------\u001b[0m",
            "\u001b[0;31mNameError\u001b[0m                                 Traceback (most recent call last)",
            "\u001b[0;32m<ipython-input-19-2902757208>\u001b[0m in \u001b[0;36m<cell line: 0>\u001b[0;34m()\u001b[0m\n\u001b[1;32m      3\u001b[0m \u001b[0mprint\u001b[0m \u001b[0;34m(\u001b[0m\u001b[0;34m\"Original list -> \"\u001b[0m\u001b[0;34m,\u001b[0m\u001b[0mL\u001b[0m\u001b[0;34m)\u001b[0m\u001b[0;34m\u001b[0m\u001b[0;34m\u001b[0m\u001b[0m\n\u001b[1;32m      4\u001b[0m \u001b[0;32mdel\u001b[0m \u001b[0mL\u001b[0m\u001b[0;34m\u001b[0m\u001b[0;34m\u001b[0m\u001b[0m\n\u001b[0;32m----> 5\u001b[0;31m \u001b[0mprint\u001b[0m \u001b[0;34m(\u001b[0m\u001b[0;34m\"List after deleting -> \"\u001b[0m\u001b[0;34m,\u001b[0m\u001b[0mL\u001b[0m\u001b[0;34m)\u001b[0m \u001b[0;31m#will give an error\u001b[0m\u001b[0;34m\u001b[0m\u001b[0;34m\u001b[0m\u001b[0m\n\u001b[0m",
            "\u001b[0;31mNameError\u001b[0m: name 'L' is not defined"
          ]
        }
      ]
    },
    {
      "cell_type": "code",
      "source": [
        "#Q2"
      ],
      "metadata": {
        "id": "vr1U3n5GhcRt"
      },
      "execution_count": 20,
      "outputs": []
    },
    {
      "cell_type": "code",
      "source": [
        "#1\n",
        "D = {1:5.6,2:7.8,3:6.6,4:8.7,5:7.7}\n",
        "print (\"Original dictionary -> \",D)\n",
        "D[8] = 8.8\n",
        "print (\"Dictionary after adding -> \",D)"
      ],
      "metadata": {
        "colab": {
          "base_uri": "https://localhost:8080/"
        },
        "id": "cN0cdgS5hfxl",
        "outputId": "d28281bf-282e-4485-a692-d97e4c1b7942"
      },
      "execution_count": 21,
      "outputs": [
        {
          "output_type": "stream",
          "name": "stdout",
          "text": [
            "Original dictionary ->  {1: 5.6, 2: 7.8, 3: 6.6, 4: 8.7, 5: 7.7}\n",
            "Dictionary after adding ->  {1: 5.6, 2: 7.8, 3: 6.6, 4: 8.7, 5: 7.7, 8: 8.8}\n"
          ]
        }
      ]
    },
    {
      "cell_type": "code",
      "source": [
        "#2\n",
        "D = {1:5.6,2:7.8,3:6.6,4:8.7,5:7.7}\n",
        "print (\"Original dictionary -> \",D)\n",
        "del D[2]\n",
        "print (\"Dictionary after deleting -> \",D)"
      ],
      "metadata": {
        "colab": {
          "base_uri": "https://localhost:8080/"
        },
        "id": "6k1QHGuNjnxp",
        "outputId": "2b8b8a57-723d-446e-9eb5-5e664d94bef4"
      },
      "execution_count": 22,
      "outputs": [
        {
          "output_type": "stream",
          "name": "stdout",
          "text": [
            "Original dictionary ->  {1: 5.6, 2: 7.8, 3: 6.6, 4: 8.7, 5: 7.7}\n",
            "Dictionary after deleting ->  {1: 5.6, 3: 6.6, 4: 8.7, 5: 7.7}\n"
          ]
        }
      ]
    },
    {
      "cell_type": "code",
      "source": [
        "#3\n",
        "D = {1:5.6,2:7.8,3:6.6,4:8.7,5:7.7}\n",
        "print (\"Original dictionary -> \",D)\n",
        "print (\"Is key 6 present -> \",6 in D)"
      ],
      "metadata": {
        "colab": {
          "base_uri": "https://localhost:8080/"
        },
        "id": "SS6EJAgSjpwT",
        "outputId": "269be908-ad75-4c5f-d347-5a5f9c30b433"
      },
      "execution_count": 23,
      "outputs": [
        {
          "output_type": "stream",
          "name": "stdout",
          "text": [
            "Original dictionary ->  {1: 5.6, 2: 7.8, 3: 6.6, 4: 8.7, 5: 7.7}\n",
            "Is key 6 present ->  False\n"
          ]
        }
      ]
    },
    {
      "cell_type": "code",
      "source": [
        "#4\n",
        "D = {1:5.6,2:7.8,3:6.6,4:8.7,5:7.7}\n",
        "print (\"Original dictionary -> \",D)\n",
        "print (\"No. of elements in D -> \",len(D))"
      ],
      "metadata": {
        "colab": {
          "base_uri": "https://localhost:8080/"
        },
        "id": "vF7kK1NPj9og",
        "outputId": "447da807-6f0e-489d-9378-1cb4b1eea8d3"
      },
      "execution_count": 24,
      "outputs": [
        {
          "output_type": "stream",
          "name": "stdout",
          "text": [
            "Original dictionary ->  {1: 5.6, 2: 7.8, 3: 6.6, 4: 8.7, 5: 7.7}\n",
            "No. of elements in D ->  5\n"
          ]
        }
      ]
    },
    {
      "cell_type": "code",
      "source": [
        "#5\n",
        "D = {1:5.6,2:7.8,3:6.6,4:8.7,5:7.7}\n",
        "print (\"Original dictionary -> \",D)\n",
        "print (\"sum of all values in D -> \",sum(D.values()))"
      ],
      "metadata": {
        "colab": {
          "base_uri": "https://localhost:8080/"
        },
        "id": "ukKvxG5PkG-T",
        "outputId": "fe27fc09-5f5e-41bf-aa1a-527d8fc334d1"
      },
      "execution_count": 25,
      "outputs": [
        {
          "output_type": "stream",
          "name": "stdout",
          "text": [
            "Original dictionary ->  {1: 5.6, 2: 7.8, 3: 6.6, 4: 8.7, 5: 7.7}\n",
            "sum of all values in D ->  36.4\n"
          ]
        }
      ]
    },
    {
      "cell_type": "code",
      "source": [
        "#6\n",
        "D = {1:5.6,2:7.8,3:6.6,4:8.7,5:7.7}\n",
        "print (\"Original dictionary -> \",D)\n",
        "D[3] = 7.1\n",
        "print (\"Dictionary after updating -> \",D)"
      ],
      "metadata": {
        "colab": {
          "base_uri": "https://localhost:8080/"
        },
        "id": "W7f6NiRhkNI_",
        "outputId": "4a3d62e7-943d-482f-9f66-92a44ed26696"
      },
      "execution_count": 26,
      "outputs": [
        {
          "output_type": "stream",
          "name": "stdout",
          "text": [
            "Original dictionary ->  {1: 5.6, 2: 7.8, 3: 6.6, 4: 8.7, 5: 7.7}\n",
            "Dictionary after updating ->  {1: 5.6, 2: 7.8, 3: 7.1, 4: 8.7, 5: 7.7}\n"
          ]
        }
      ]
    },
    {
      "cell_type": "code",
      "source": [
        "#7\n",
        "D = {1:5.6,2:7.8,3:6.6,4:8.7,5:7.7}\n",
        "print (\"Original dictionary -> \",D)\n",
        "D.clear()\n",
        "print (\"After clearing -> \",D)"
      ],
      "metadata": {
        "colab": {
          "base_uri": "https://localhost:8080/"
        },
        "id": "FtI5IzslkWVb",
        "outputId": "3ddb4ab5-1f31-4cf3-8754-f1835fee774a"
      },
      "execution_count": 27,
      "outputs": [
        {
          "output_type": "stream",
          "name": "stdout",
          "text": [
            "Original dictionary ->  {1: 5.6, 2: 7.8, 3: 6.6, 4: 8.7, 5: 7.7}\n",
            "After clearing ->  {}\n"
          ]
        }
      ]
    },
    {
      "cell_type": "code",
      "source": [
        "#Q3"
      ],
      "metadata": {
        "id": "xa15J_DWkctf"
      },
      "execution_count": null,
      "outputs": []
    },
    {
      "cell_type": "code",
      "source": [
        "#1\n",
        "S1 = {10,20,30,40,50,60}\n",
        "S2 = {40,50,60,70,80,90}\n",
        "print (\"Original Set 1 -> \",S1)\n",
        "print (\"Original Set 2 -> \",S2)\n",
        "S1.add(55)\n",
        "S1.add(66)\n",
        "print (\"Set after adding -> \",S1)"
      ],
      "metadata": {
        "colab": {
          "base_uri": "https://localhost:8080/"
        },
        "id": "UnQiPqn_kfbr",
        "outputId": "78c216a3-8c87-4e8c-fd3c-7b9d171440a9"
      },
      "execution_count": 28,
      "outputs": [
        {
          "output_type": "stream",
          "name": "stdout",
          "text": [
            "Original Set 1 ->  {50, 20, 40, 10, 60, 30}\n",
            "Original Set 2 ->  {80, 50, 70, 40, 90, 60}\n",
            "Set after adding ->  {50, 66, 20, 55, 40, 10, 60, 30}\n"
          ]
        }
      ]
    },
    {
      "cell_type": "code",
      "source": [
        "#2\n",
        "S1 = {10,20,30,40,50,60}\n",
        "S2 = {40,50,60,70,80,90}\n",
        "print (\"Original Set 1 -> \",S1)\n",
        "print (\"Original Set 2 -> \",S2)\n",
        "S1.remove(10)\n",
        "S1.remove(30)\n",
        "print (\"Set after removing -> \",S1)"
      ],
      "metadata": {
        "colab": {
          "base_uri": "https://localhost:8080/"
        },
        "id": "EahJ3yJhk1qS",
        "outputId": "b9b218c1-8048-4b88-bc5e-bbf4995d2067"
      },
      "execution_count": 29,
      "outputs": [
        {
          "output_type": "stream",
          "name": "stdout",
          "text": [
            "Original Set 1 ->  {50, 20, 40, 10, 60, 30}\n",
            "Original Set 2 ->  {80, 50, 70, 40, 90, 60}\n",
            "Set after removing ->  {50, 20, 40, 60}\n"
          ]
        }
      ]
    },
    {
      "cell_type": "code",
      "source": [
        "#3\n",
        "S1 = {10,20,30,40,50,60}\n",
        "S2 = {40,50,60,70,80,90}\n",
        "print (\"Original Set 1 -> \",S1)\n",
        "print (\"Original Set 2 -> \",S2)\n",
        "print (\"Is 40 present in S1 -> \",40 in S1)"
      ],
      "metadata": {
        "colab": {
          "base_uri": "https://localhost:8080/"
        },
        "id": "tS0lJNKFk6b2",
        "outputId": "69a492e9-c42c-49f9-fe1f-534eaa34c93a"
      },
      "execution_count": 30,
      "outputs": [
        {
          "output_type": "stream",
          "name": "stdout",
          "text": [
            "Original Set 1 ->  {50, 20, 40, 10, 60, 30}\n",
            "Original Set 2 ->  {80, 50, 70, 40, 90, 60}\n",
            "Is 40 present in S1 ->  True\n"
          ]
        }
      ]
    },
    {
      "cell_type": "code",
      "source": [
        "#4\n",
        "S1 = {10,20,30,40,50,60}\n",
        "S2 = {40,50,60,70,80,90}\n",
        "print (\"Original Set 1 -> \",S1)\n",
        "print (\"Original Set 2 -> \",S2)\n",
        "print (\"Union of S1 and S2 -> \",S1.union(S2))"
      ],
      "metadata": {
        "colab": {
          "base_uri": "https://localhost:8080/"
        },
        "id": "u9NXqaUllCDf",
        "outputId": "f53e8674-5b38-4a00-c55f-558fb374b82f"
      },
      "execution_count": 31,
      "outputs": [
        {
          "output_type": "stream",
          "name": "stdout",
          "text": [
            "Original Set 1 ->  {50, 20, 40, 10, 60, 30}\n",
            "Original Set 2 ->  {80, 50, 70, 40, 90, 60}\n",
            "Union of S1 and S2 ->  {70, 40, 10, 80, 50, 20, 90, 60, 30}\n"
          ]
        }
      ]
    },
    {
      "cell_type": "code",
      "source": [
        "#5\n",
        "S1 = {10,20,30,40,50,60}\n",
        "S2 = {40,50,60,70,80,90}\n",
        "print (\"Original Set 1 -> \",S1)\n",
        "print (\"Original Set 2 -> \",S2)\n",
        "print (\"Intersection of S1 and S2 -> \",S1.intersection(S2))"
      ],
      "metadata": {
        "colab": {
          "base_uri": "https://localhost:8080/"
        },
        "id": "paCjm5FNlJAx",
        "outputId": "7c272fa8-b329-4539-9d29-3babab71a107"
      },
      "execution_count": 32,
      "outputs": [
        {
          "output_type": "stream",
          "name": "stdout",
          "text": [
            "Original Set 1 ->  {50, 20, 40, 10, 60, 30}\n",
            "Original Set 2 ->  {80, 50, 70, 40, 90, 60}\n",
            "Intersection of S1 and S2 ->  {40, 50, 60}\n"
          ]
        }
      ]
    },
    {
      "cell_type": "code",
      "source": [
        "#6\n",
        "S1 = {10,20,30,40,50,60}\n",
        "S2 = {40,50,60,70,80,90}\n",
        "print (\"Original Set 1 -> \",S1)\n",
        "print (\"Original Set 2 -> \",S2)\n",
        "print (\"Difference of S1-S2 -> \",S1.difference(S2))"
      ],
      "metadata": {
        "colab": {
          "base_uri": "https://localhost:8080/"
        },
        "id": "edjcE5pRlhJO",
        "outputId": "2087c502-0e90-48ef-ab1e-31ac8b04259f"
      },
      "execution_count": 33,
      "outputs": [
        {
          "output_type": "stream",
          "name": "stdout",
          "text": [
            "Original Set 1 ->  {50, 20, 40, 10, 60, 30}\n",
            "Original Set 2 ->  {80, 50, 70, 40, 90, 60}\n",
            "Difference of S1-S2 ->  {10, 20, 30}\n"
          ]
        }
      ]
    },
    {
      "cell_type": "code",
      "source": [
        "# Q4"
      ],
      "metadata": {
        "id": "eOFoyurBll5G"
      },
      "execution_count": null,
      "outputs": []
    },
    {
      "cell_type": "code",
      "source": [
        "#1\n",
        "import string as s\n",
        "import random as r\n",
        "\n",
        "def random_string(length):\n",
        "  return \"\".join(r.sample(s.ascii_letters, length))\n",
        "\n",
        "for i in range(100):\n",
        "  length = r.randint(6, 8)\n",
        "  print(random_string(length))"
      ],
      "metadata": {
        "colab": {
          "base_uri": "https://localhost:8080/"
        },
        "id": "3pRs9kp4loii",
        "outputId": "6e2b7e60-5fd1-4e08-ad11-834ac2e9a8e6"
      },
      "execution_count": 34,
      "outputs": [
        {
          "output_type": "stream",
          "name": "stdout",
          "text": [
            "eoZWndER\n",
            "kbqMUV\n",
            "Otshzkfo\n",
            "UMrmBEiw\n",
            "tCNnmc\n",
            "LqQusE\n",
            "faAxPswV\n",
            "obydMuLj\n",
            "WAZSVvUO\n",
            "VYDSNx\n",
            "YqiuCEj\n",
            "AGDQvPVW\n",
            "fTrYFPy\n",
            "gzOlZnK\n",
            "xizStXlc\n",
            "EDwbmU\n",
            "jbBJVoy\n",
            "LPNrej\n",
            "HKBeDsG\n",
            "eUkoiyqg\n",
            "JwuUBs\n",
            "YrJZKx\n",
            "gGCcZYwy\n",
            "xaPYtAS\n",
            "hRNeHDZ\n",
            "zIgmNZey\n",
            "TZWYzAh\n",
            "gdkcNv\n",
            "uKxCJzQ\n",
            "BcEJfjMA\n",
            "axvrse\n",
            "okpcsOU\n",
            "HNlwZb\n",
            "dfNUtins\n",
            "SuDwEBh\n",
            "sKkBMG\n",
            "JTvqYOy\n",
            "jahuotHL\n",
            "praZqCSW\n",
            "LtgnCjsO\n",
            "gcIAdR\n",
            "nFqGiJW\n",
            "XthJyml\n",
            "inIwGNr\n",
            "hBQWJgT\n",
            "iZTaGs\n",
            "xcuqCJ\n",
            "IxuYwNo\n",
            "zSotNg\n",
            "mOBITCi\n",
            "cdUohRfV\n",
            "TpbPZc\n",
            "fFxTZmX\n",
            "FTzDPQu\n",
            "VIcxUBPL\n",
            "MZLpGHv\n",
            "whBaXZ\n",
            "wlXFfeOH\n",
            "EPjIca\n",
            "YXbzcKtu\n",
            "qaKsovS\n",
            "CInAEUcr\n",
            "DSNzZKy\n",
            "wYqMKk\n",
            "TDlEur\n",
            "XsihOZ\n",
            "jvzyLF\n",
            "vizQHD\n",
            "hZDWXmvH\n",
            "zbyjDudc\n",
            "WEXSRrM\n",
            "BUGuhnwy\n",
            "fPBjomC\n",
            "qjuyPSR\n",
            "pTFNKaUh\n",
            "empWSH\n",
            "JxGTPu\n",
            "XqDVSa\n",
            "LKZUhm\n",
            "ZRJceGWm\n",
            "XxaBdPb\n",
            "JKILTg\n",
            "RVUoOGX\n",
            "VxfvsEGO\n",
            "cMaTPf\n",
            "jVHdsLF\n",
            "TOJSUBX\n",
            "IdEefc\n",
            "GlBWFL\n",
            "pwiyJF\n",
            "ZcIEmnd\n",
            "tVCDkOfe\n",
            "NFtHUpzu\n",
            "jwghlGLv\n",
            "BEFsWZe\n",
            "vRNjMlc\n",
            "EtfSaMyP\n",
            "UWxPYQ\n",
            "UICegVL\n",
            "MnlhwiO\n"
          ]
        }
      ]
    },
    {
      "cell_type": "code",
      "source": [
        "#2\n",
        "def is_prime(n):\n",
        "    if n <= 1:\n",
        "        return False\n",
        "    if n % 2 == 0:\n",
        "        return False\n",
        "    for i in range(3, int(n**0.5) + 1):\n",
        "        if n % i == 0:\n",
        "            return False\n",
        "    return True\n",
        "\n",
        "print(\"Prime numbers between 600 and 800 -> \")\n",
        "for num in range(600, 801):\n",
        "    if is_prime(num):\n",
        "        print(num)"
      ],
      "metadata": {
        "colab": {
          "base_uri": "https://localhost:8080/"
        },
        "id": "W4QBSTUOmgtN",
        "outputId": "0930863a-81c2-4bb5-8125-f54358b3e5e3"
      },
      "execution_count": 35,
      "outputs": [
        {
          "output_type": "stream",
          "name": "stdout",
          "text": [
            "Prime numbers between 600 and 800 -> \n",
            "601\n",
            "607\n",
            "613\n",
            "617\n",
            "619\n",
            "631\n",
            "641\n",
            "643\n",
            "647\n",
            "653\n",
            "659\n",
            "661\n",
            "673\n",
            "677\n",
            "683\n",
            "691\n",
            "701\n",
            "709\n",
            "719\n",
            "727\n",
            "733\n",
            "739\n",
            "743\n",
            "751\n",
            "757\n",
            "761\n",
            "769\n",
            "773\n",
            "787\n",
            "797\n"
          ]
        }
      ]
    },
    {
      "cell_type": "code",
      "source": [
        "#3\n",
        "print(\"Numbers between 100 and 1000 divisible by both 7 and 9 -> \")\n",
        "for num in range(100, 1001):\n",
        "    if num % 7 == 0 and num % 9 == 0:\n",
        "        print(num)"
      ],
      "metadata": {
        "colab": {
          "base_uri": "https://localhost:8080/"
        },
        "id": "fa7ihg4vmr_d",
        "outputId": "6d0f28f1-e987-47d6-dd30-3cb56dd0dce6"
      },
      "execution_count": 36,
      "outputs": [
        {
          "output_type": "stream",
          "name": "stdout",
          "text": [
            "Numbers between 100 and 1000 divisible by both 7 and 9 -> \n",
            "126\n",
            "189\n",
            "252\n",
            "315\n",
            "378\n",
            "441\n",
            "504\n",
            "567\n",
            "630\n",
            "693\n",
            "756\n",
            "819\n",
            "882\n",
            "945\n"
          ]
        }
      ]
    },
    {
      "cell_type": "code",
      "source": [
        "#Q5"
      ],
      "metadata": {
        "id": "i0_rwoP7mxhN"
      },
      "execution_count": null,
      "outputs": []
    },
    {
      "cell_type": "code",
      "source": [
        "#1\n",
        "import random as r\n",
        "L1 = [r.randint(10, 30) for _ in range(10)]\n",
        "L2 = [r.randint(10, 30) for _ in range(10)]\n",
        "print(\"Original list L1 -> \",L1)\n",
        "print (\"Original list L2 -> \",L2)\n",
        "common_numbers = list(set(L1).intersection(set(L2)))\n",
        "print (\"Common numbers in L1 and L2 are -> \",common_numbers)"
      ],
      "metadata": {
        "colab": {
          "base_uri": "https://localhost:8080/"
        },
        "id": "GU1XwWo8m0k3",
        "outputId": "1996cea0-6f3a-4585-c0b9-7bc1701f2047"
      },
      "execution_count": 38,
      "outputs": [
        {
          "output_type": "stream",
          "name": "stdout",
          "text": [
            "Original list L1 ->  [27, 25, 12, 17, 22, 14, 22, 27, 12, 27]\n",
            "Original list L2 ->  [11, 13, 13, 27, 19, 25, 15, 20, 18, 20]\n",
            "Common numbers in L1 and L2 are ->  [25, 27]\n"
          ]
        }
      ]
    },
    {
      "cell_type": "code",
      "source": [
        "#2\n",
        "import random as r\n",
        "L1 = [r.randint(10, 30) for _ in range(10)]\n",
        "L2 = [r.randint(10, 30) for _ in range(10)]\n",
        "print(\"Original list L1 -> \",L1)\n",
        "print (\"Original list L2 -> \",L2)\n",
        "unique_numbers = list((set(L1).union(set(L2))).difference(set(common_numbers)))\n",
        "print(\"Unique numbers in both lists -> \", unique_numbers)"
      ],
      "metadata": {
        "colab": {
          "base_uri": "https://localhost:8080/"
        },
        "id": "IT2fEn-6nNCu",
        "outputId": "86ff7494-11ed-4046-f6aa-d91ae1d6fa48"
      },
      "execution_count": 39,
      "outputs": [
        {
          "output_type": "stream",
          "name": "stdout",
          "text": [
            "Original list L1 ->  [29, 16, 20, 21, 26, 11, 27, 24, 20, 19]\n",
            "Original list L2 ->  [14, 30, 20, 15, 16, 25, 23, 15, 19, 20]\n",
            "Unique numbers in both lists ->  [11, 14, 15, 16, 19, 20, 21, 23, 24, 26, 29, 30]\n"
          ]
        }
      ]
    },
    {
      "cell_type": "code",
      "source": [
        "#3\n",
        "import random as r\n",
        "L1 = [r.randint(10, 30) for _ in range(10)]\n",
        "L2 = [r.randint(10, 30) for _ in range(10)]\n",
        "print(\"Original list L1 -> \",L1)\n",
        "print (\"Original list L2 -> \",L2)\n",
        "print (\"Minimum in L1 -> \",min(L1))\n",
        "print (\"Minimum in L2 -> \",min(L2))"
      ],
      "metadata": {
        "colab": {
          "base_uri": "https://localhost:8080/"
        },
        "id": "L8GJYcn_nnN4",
        "outputId": "daa718e8-9717-4290-c79f-6446e701b550"
      },
      "execution_count": 40,
      "outputs": [
        {
          "output_type": "stream",
          "name": "stdout",
          "text": [
            "Original list L1 ->  [19, 25, 28, 13, 25, 27, 10, 19, 25, 22]\n",
            "Original list L2 ->  [20, 17, 17, 22, 17, 19, 26, 17, 28, 16]\n",
            "Minimum in L1 ->  10\n",
            "Minimum in L2 ->  16\n"
          ]
        }
      ]
    },
    {
      "cell_type": "code",
      "source": [
        "#4\n",
        "import random as r\n",
        "L1 = [r.randint(10, 30) for _ in range(10)]\n",
        "L2 = [r.randint(10, 30) for _ in range(10)]\n",
        "print(\"Original list L1 -> \",L1)\n",
        "print (\"Original list L2 -> \",L2)\n",
        "print (\"Maximum in L1 -> \",max(L1))\n",
        "print (\"Maximum in L2 -> \",max(L2))"
      ],
      "metadata": {
        "colab": {
          "base_uri": "https://localhost:8080/"
        },
        "id": "o0tTJ8Pxns58",
        "outputId": "d280a18f-48e2-47f5-9cfa-fc12a69ae4d5"
      },
      "execution_count": 41,
      "outputs": [
        {
          "output_type": "stream",
          "name": "stdout",
          "text": [
            "Original list L1 ->  [22, 15, 28, 14, 19, 27, 14, 19, 20, 28]\n",
            "Original list L2 ->  [26, 18, 29, 25, 23, 29, 16, 13, 16, 22]\n",
            "Maximum in L1 ->  28\n",
            "Maximum in L2 ->  29\n"
          ]
        }
      ]
    },
    {
      "cell_type": "code",
      "source": [
        "#5\n",
        "import random as r\n",
        "L1 = [r.randint(10, 30) for _ in range(10)]\n",
        "L2 = [r.randint(10, 30) for _ in range(10)]\n",
        "print(\"Original list L1 -> \",L1)\n",
        "print (\"Original list L2 -> \",L2)\n",
        "print (\"Sum of L1 -> \",sum(L1))\n",
        "print (\"Sum of L2 -> \",sum(L2))"
      ],
      "metadata": {
        "colab": {
          "base_uri": "https://localhost:8080/"
        },
        "id": "Dpb0EHFKn18k",
        "outputId": "a7237756-0cb1-49f9-dbd2-0e8704ba12c3"
      },
      "execution_count": 42,
      "outputs": [
        {
          "output_type": "stream",
          "name": "stdout",
          "text": [
            "Original list L1 ->  [29, 24, 20, 30, 28, 10, 14, 27, 20, 26]\n",
            "Original list L2 ->  [22, 12, 16, 26, 21, 25, 21, 18, 12, 18]\n",
            "Sum of L1 ->  228\n",
            "Sum of L2 ->  191\n"
          ]
        }
      ]
    },
    {
      "cell_type": "code",
      "source": [
        "#Q6"
      ],
      "metadata": {
        "id": "nAsnZo_Pn8lY"
      },
      "execution_count": null,
      "outputs": []
    },
    {
      "cell_type": "code",
      "source": [
        "#1\n",
        "import random as r\n",
        "L = [r.randint(100,900) for _ in range (100)]\n",
        "print (\"Original List -> \",L)\n",
        "def is_odd(L):\n",
        "  return L%2 != 0\n",
        "odd_count = 0\n",
        "for num in L:\n",
        "  if is_odd(num):\n",
        "    odd_count += 1\n",
        "print (\"No. of odd numbers in list are -> \",odd_count)"
      ],
      "metadata": {
        "colab": {
          "base_uri": "https://localhost:8080/"
        },
        "id": "cx5gHhgTn-Mv",
        "outputId": "d040ea84-be6c-4901-fddb-59bffab0ff55"
      },
      "execution_count": 43,
      "outputs": [
        {
          "output_type": "stream",
          "name": "stdout",
          "text": [
            "Original List ->  [424, 583, 419, 226, 591, 345, 891, 526, 694, 443, 419, 220, 390, 150, 577, 329, 528, 351, 716, 498, 741, 351, 806, 783, 395, 382, 365, 516, 759, 571, 662, 391, 279, 550, 844, 516, 490, 696, 483, 874, 212, 136, 340, 891, 607, 816, 392, 208, 777, 211, 241, 529, 866, 337, 884, 769, 201, 264, 674, 534, 574, 607, 402, 544, 882, 423, 885, 236, 664, 168, 203, 857, 688, 268, 853, 582, 336, 740, 898, 122, 596, 481, 502, 512, 247, 214, 287, 550, 840, 682, 727, 367, 763, 530, 273, 788, 732, 832, 248, 763]\n",
            "No. of odd numbers in list are ->  43\n"
          ]
        }
      ]
    },
    {
      "cell_type": "code",
      "source": [
        "#2\n",
        "import random as r\n",
        "L = [r.randint(100,900) for _ in range (100)]\n",
        "print (\"Original List -> \",L)\n",
        "def is_even(L):\n",
        "  return L%2 == 0\n",
        "even_count = 0\n",
        "for num in L:\n",
        "  if is_even(num):\n",
        "    even_count += 1\n",
        "print (\"No. of even numbers in list are -> \",even_count)"
      ],
      "metadata": {
        "colab": {
          "base_uri": "https://localhost:8080/"
        },
        "id": "LgtraPQqoVMA",
        "outputId": "15845b88-fd3a-4659-8b59-c1c1e7ab4fdc"
      },
      "execution_count": 44,
      "outputs": [
        {
          "output_type": "stream",
          "name": "stdout",
          "text": [
            "Original List ->  [624, 732, 181, 506, 199, 762, 884, 782, 804, 419, 125, 547, 562, 205, 503, 744, 582, 373, 160, 738, 214, 551, 162, 281, 158, 786, 160, 193, 173, 893, 889, 340, 470, 877, 881, 685, 532, 170, 805, 125, 524, 679, 366, 840, 510, 735, 840, 229, 318, 881, 888, 235, 719, 113, 893, 479, 575, 681, 707, 743, 196, 680, 482, 525, 351, 735, 158, 604, 787, 238, 454, 134, 651, 576, 215, 771, 734, 143, 658, 478, 611, 146, 443, 149, 127, 602, 605, 420, 285, 184, 808, 356, 522, 460, 384, 620, 643, 330, 402, 285]\n",
            "No. of even numbers in list are ->  52\n"
          ]
        }
      ]
    },
    {
      "cell_type": "code",
      "source": [
        "#3\n",
        "import random as r\n",
        "L = [r.randint(100,900) for _ in range (100)]\n",
        "print (\"Original List -> \",L)\n",
        "def is_prime(n):\n",
        "    if n <= 1:\n",
        "        return False\n",
        "    if n % 2 == 0:\n",
        "        return False\n",
        "    for i in range(3, int(n**0.5) + 1):\n",
        "        if n % i == 0:\n",
        "            return False\n",
        "    return True\n",
        "\n",
        "prime_count = 0\n",
        "for num in L:\n",
        "    if is_prime(num):\n",
        "        prime_count += 1\n",
        "\n",
        "print(f\"There are {prime_count} prime numbers in the list.\")"
      ],
      "metadata": {
        "colab": {
          "base_uri": "https://localhost:8080/"
        },
        "id": "MNTuWSR6oaOj",
        "outputId": "c4a74104-2493-4930-973f-be9233075b90"
      },
      "execution_count": 45,
      "outputs": [
        {
          "output_type": "stream",
          "name": "stdout",
          "text": [
            "Original List ->  [362, 111, 395, 443, 302, 528, 713, 151, 879, 397, 365, 823, 570, 407, 371, 459, 419, 233, 340, 739, 442, 745, 755, 400, 505, 234, 430, 278, 481, 323, 143, 315, 214, 700, 221, 494, 661, 686, 427, 513, 468, 285, 320, 522, 761, 856, 768, 572, 116, 652, 809, 422, 647, 303, 504, 345, 599, 321, 310, 431, 336, 402, 814, 770, 711, 715, 494, 834, 184, 563, 230, 747, 418, 616, 837, 557, 577, 770, 834, 458, 545, 304, 753, 313, 477, 474, 892, 819, 537, 689, 815, 712, 868, 664, 817, 779, 761, 688, 824, 800]\n",
            "There are 18 prime numbers in the list.\n"
          ]
        }
      ]
    },
    {
      "cell_type": "code",
      "source": [
        "#Q7"
      ],
      "metadata": {
        "id": "euvfx633offQ"
      },
      "execution_count": null,
      "outputs": []
    },
    {
      "cell_type": "code",
      "source": [
        "#1\n",
        "%%file dictionary_output.txt #to create a text file\n"
      ],
      "metadata": {
        "colab": {
          "base_uri": "https://localhost:8080/"
        },
        "id": "uJ_WQynDohg0",
        "outputId": "80aa1e9d-6a29-477b-bdc5-6f6401d301b8"
      },
      "execution_count": 48,
      "outputs": [
        {
          "output_type": "stream",
          "name": "stderr",
          "text": [
            "UsageError: unrecognized arguments: #to create a text file\n"
          ]
        }
      ]
    },
    {
      "cell_type": "code",
      "source": [
        "D = {1:\"One\", 2:\"Two\", 3:\"Three\", 4:\"Four\", 5:\"Five\"}\n",
        "print (\"Original dictionary -> \",D)\n",
        "fp = open('dictionary_output.txt', 'w')\n",
        "\n",
        "for key, value in D.items():\n",
        "    fp.write(str(key) + \", \" + value + \"\\n\")\n",
        "\n",
        "fp.close()\n",
        "\n",
        "print(\"Writing done!! \\nOpen dictionary_output.txt to view the content\")"
      ],
      "metadata": {
        "colab": {
          "base_uri": "https://localhost:8080/"
        },
        "id": "J0FBEgvrpBn3",
        "outputId": "a420a880-c010-4bb0-adee-b0f52b6c3525"
      },
      "execution_count": 49,
      "outputs": [
        {
          "output_type": "stream",
          "name": "stdout",
          "text": [
            "Original dictionary ->  {1: 'One', 2: 'Two', 3: 'Three', 4: 'Four', 5: 'Five'}\n",
            "Writing done!! \n",
            "Open dictionary_output.txt to view the content\n"
          ]
        }
      ]
    },
    {
      "cell_type": "code",
      "source": [
        "Q8\n",
        "%%file length_output.txt"
      ],
      "metadata": {
        "colab": {
          "base_uri": "https://localhost:8080/"
        },
        "id": "PlpXLvpZpImy",
        "outputId": "48905ad0-cd15-4e90-9dc9-f53ca0386b22"
      },
      "execution_count": 50,
      "outputs": [
        {
          "output_type": "stream",
          "name": "stdout",
          "text": [
            "Writing length_output.txt\n"
          ]
        }
      ]
    },
    {
      "cell_type": "code",
      "source": [
        "L = [\"One\",\"Two\",\"Three\",\"Four\",\"Five\"]\n",
        "print (\"Original list -> \",L)\n",
        "fp = open(\"length_output.txt\",\"w\")\n",
        "for item in L:\n",
        "  fp.write(item + \", \" + str(len(item)) + \"\\n\")\n",
        "fp.close()\n",
        "print(\"Writing done!! \\nOpen length_output.txt to view the content\")"
      ],
      "metadata": {
        "colab": {
          "base_uri": "https://localhost:8080/"
        },
        "id": "6R7KlnPhpU_a",
        "outputId": "16d0ba7e-1ef9-41d2-9c35-af3f886711c3"
      },
      "execution_count": 51,
      "outputs": [
        {
          "output_type": "stream",
          "name": "stdout",
          "text": [
            "Original list ->  ['One', 'Two', 'Three', 'Four', 'Five']\n",
            "Writing done!! \n",
            "Open length_output.txt to view the content\n"
          ]
        }
      ]
    },
    {
      "cell_type": "code",
      "source": [
        "#Q9\n",
        "%%file random_strings.txt"
      ],
      "metadata": {
        "colab": {
          "base_uri": "https://localhost:8080/"
        },
        "id": "qZ4Y0kJpp10m",
        "outputId": "dd245109-4e6b-4402-82fd-4fb2fab5dc8b"
      },
      "execution_count": 52,
      "outputs": [
        {
          "output_type": "stream",
          "name": "stdout",
          "text": [
            "Writing random_strings.txt\n"
          ]
        }
      ]
    },
    {
      "cell_type": "code",
      "source": [
        "import random as r\n",
        "import string\n",
        "\n",
        "fp = open('random_strings.txt', 'w')\n",
        "\n",
        "for _ in range(100):\n",
        "    length = r.randint(10, 15)\n",
        "    random_str = ''.join(r.choice(string.ascii_letters) for _ in range(length))\n",
        "    fp.write(random_str + \"\\n\")\n",
        "\n",
        "fp.close()\n",
        "\n",
        "print(\"Writing done!! \\nOpen random_strings.txt to view 100 random strings\")"
      ],
      "metadata": {
        "colab": {
          "base_uri": "https://localhost:8080/"
        },
        "id": "gO6zF9pNqNu-",
        "outputId": "e8ce39b3-1422-4f4a-b7ee-702616acb376"
      },
      "execution_count": 53,
      "outputs": [
        {
          "output_type": "stream",
          "name": "stdout",
          "text": [
            "Writing done!! \n",
            "Open random_strings.txt to view 100 random strings\n"
          ]
        }
      ]
    },
    {
      "cell_type": "code",
      "source": [
        "#Q10\n",
        "%%file primes_600_800.txt"
      ],
      "metadata": {
        "colab": {
          "base_uri": "https://localhost:8080/"
        },
        "id": "dJmGcH-_qd2h",
        "outputId": "c83fdf91-c1de-4bec-a4a2-3b2393bca3d0"
      },
      "execution_count": 54,
      "outputs": [
        {
          "output_type": "stream",
          "name": "stdout",
          "text": [
            "Writing primes_600_800.txt\n"
          ]
        }
      ]
    },
    {
      "cell_type": "code",
      "source": [
        "def is_prime(n):\n",
        "    if n <= 1:\n",
        "        return False\n",
        "    for i in range(2, int(n**0.5) + 1):\n",
        "        if n % i == 0:\n",
        "            return False\n",
        "    return True\n",
        "\n",
        "fp = open('primes_600_800.txt', 'w')\n",
        "\n",
        "for num in range(600, 801):\n",
        "    if is_prime(num):\n",
        "        fp.write(str(num) + \"\\n\")\n",
        "\n",
        "fp.close()\n",
        "\n",
        "print(\"Writing done!! \\nOpen primes_600_800.txt to view prime numbers\")"
      ],
      "metadata": {
        "colab": {
          "base_uri": "https://localhost:8080/"
        },
        "id": "n58wuDj2qnSb",
        "outputId": "39e40b7e-069c-46a6-f718-6ffa642ed782"
      },
      "execution_count": 55,
      "outputs": [
        {
          "output_type": "stream",
          "name": "stdout",
          "text": [
            "Writing done!! \n",
            "Open primes_600_800.txt to view prime numbers\n"
          ]
        }
      ]
    },
    {
      "cell_type": "code",
      "source": [
        "#Q11\n",
        "import time as t\n",
        "t1 = t.time()\n",
        "print (t1)\n",
        "\n",
        "# program for which you calculate the time\n",
        "\n",
        "t2 = t.time()\n",
        "print (t2)\n",
        "print (\"total time taken = \",t2-t1)"
      ],
      "metadata": {
        "colab": {
          "base_uri": "https://localhost:8080/"
        },
        "id": "5U8XPVVdqveK",
        "outputId": "6b348b39-9a71-4120-8696-b76c372b55f5"
      },
      "execution_count": 56,
      "outputs": [
        {
          "output_type": "stream",
          "name": "stdout",
          "text": [
            "1749891632.8244693\n",
            "1749891632.824646\n",
            "total time taken =  0.0001766681671142578\n"
          ]
        }
      ]
    },
    {
      "cell_type": "code",
      "source": [
        "#Q12\n",
        "import random as r\n",
        "import matplotlib.pyplot as plt\n",
        "import seaborn as sns\n",
        "\n",
        "sizes = [5000, 10000, 15000, 20000, 25000]\n",
        "times = []\n",
        "\n",
        "arrays = []\n",
        "for size in sizes:\n",
        "    arrays.append([r.randint(1, 100) for _ in range(size)])\n",
        "\n",
        "for arr in arrays:\n",
        "    start_time = t.time()\n",
        "    sorted_arr = sorted(arr)\n",
        "    end_time = t.time()\n",
        "    times.append(end_time - start_time)\n",
        "\n",
        "sns.lineplot(x=sizes, y=times)\n",
        "plt.title('Sorting Time vs Array Size')\n",
        "plt.xlabel('Number of Elements')\n",
        "plt.ylabel('Time (seconds)')\n",
        "plt.legend()\n",
        "plt.show()"
      ],
      "metadata": {
        "colab": {
          "base_uri": "https://localhost:8080/",
          "height": 527
        },
        "id": "a2k4jtEkrGMt",
        "outputId": "d770bf6a-414b-422b-88f4-8fd0ae6cb841"
      },
      "execution_count": 57,
      "outputs": [
        {
          "output_type": "stream",
          "name": "stderr",
          "text": [
            "<ipython-input-57-159081240>:23: UserWarning: No artists with labels found to put in legend.  Note that artists whose label start with an underscore are ignored when legend() is called with no argument.\n",
            "  plt.legend()\n"
          ]
        },
        {
          "output_type": "display_data",
          "data": {
            "text/plain": [
              "<Figure size 640x480 with 1 Axes>"
            ],
            "image/png": "[encoded data removed]"
          },
          "metadata": {}
        }
      ]
    },
    {
      "cell_type": "code",
      "source": [
        "#Q13\n",
        "# Create a dictionary of student marks\n",
        "student_marks = {\n",
        "    \"Alice\": [85, 90, 78, 92, 88],\n",
        "    \"Bob\": [72, 68, 75, 80, 65],\n",
        "    \"Charlie\": [90, 95, 92, 88, 94],\n",
        "    \"Diana\": [60, 65, 70, 62, 68],\n",
        "    \"Ethan\": [78, 82, 80, 85, 79]\n",
        "}\n",
        "\n",
        "# Calculate average marks for each student\n",
        "averages = {}\n",
        "for student, marks in student_marks.items():\n",
        "    averages[student] = sum(marks) / len(marks)\n",
        "\n",
        "# Find student with maximum average\n",
        "max_student = max(averages, key=averages.get)\n",
        "max_avg = averages[max_student]\n",
        "\n",
        "# Find student with minimum average\n",
        "min_student = min(averages, key=averages.get)\n",
        "min_avg = averages[min_student]\n",
        "\n",
        "# Print results\n",
        "print(\"Student Averages:\")\n",
        "for student, avg in averages.items():\n",
        "    print(f\"{student}: {avg}\")\n",
        "\n",
        "print(f\"\\nStudent with highest average: {max_student} ({max_avg})\")\n",
        "print(f\"Student with lowest average: {min_student} ({min_avg})\")"
      ],
      "metadata": {
        "colab": {
          "base_uri": "https://localhost:8080/"
        },
        "id": "C7idXIhYrRb3",
        "outputId": "48d16375-7f31-46f7-d9cb-e451596a4aac"
      },
      "execution_count": 58,
      "outputs": [
        {
          "output_type": "stream",
          "name": "stdout",
          "text": [
            "Student Averages:\n",
            "Alice: 86.6\n",
            "Bob: 72.0\n",
            "Charlie: 91.8\n",
            "Diana: 65.0\n",
            "Ethan: 80.8\n",
            "\n",
            "Student with highest average: Charlie (91.8)\n",
            "Student with lowest average: Diana (65.0)\n"
          ]
        }
      ]
    }
  ]
}